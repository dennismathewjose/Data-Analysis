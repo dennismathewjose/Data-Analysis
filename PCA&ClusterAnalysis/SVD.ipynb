{
  "nbformat": 4,
  "nbformat_minor": 0,
  "metadata": {
    "colab": {
      "name": "PCA and Cluster Analysis1.ipynb",
      "provenance": []
    },
    "kernelspec": {
      "name": "python3",
      "display_name": "Python 3"
    },
    "language_info": {
      "name": "python"
    }
  },
  "cells": [
    {
      "cell_type": "markdown",
      "source": [
        "#SVD\n",
        "SVD also known as Singular Value Decomposition of a matrix is a factorization of that matrix into three matrices. It has some interesting algebraic properties and conveys important geometrical and theoretical insights about linear transformations. It also has some important applications in data science. In this article, I will try to explain the mathematical intuition behind SVD and its geometrical meaning.\n",
        "\n",
        "Mathematics behind SVD The SVD of mxn matrix A is given by the formula :\n",
        "\n",
        "A = UWV<sup>T</sup>\n",
        "\n",
        "where, \n",
        "U: mxn matrix of the orthonormal eigenvectors of AA<sup>T</sup> . \n",
        "\n",
        "V_t: transpose of a nxn matrix containing the orthonormal eigenvectors of A<sup>T</sup>.A. \n",
        "\n",
        "W: a nxn diagonal matrix of the singular values which are the square roots of the eigenvalues of A<sup>T</sup>.A "
      ],
      "metadata": {
        "id": "8yjwZytYTC2t"
      }
    },
    {
      "cell_type": "code",
      "execution_count": 1,
      "metadata": {
        "id": "0ogC-LvtQDv7"
      },
      "outputs": [],
      "source": [
        "#import all the necessary header files inorder to perform SVD operation\n",
        "import numpy as np\n",
        "from scipy.linalg import svd"
      ]
    },
    {
      "cell_type": "code",
      "source": [
        "\"\"\"Singular Value Deposition \"\"\"\n",
        "\n",
        "A = np.array([[3,4,5],[5,6,7]])\n",
        "print(A)"
      ],
      "metadata": {
        "colab": {
          "base_uri": "https://localhost:8080/"
        },
        "id": "Wq95ov0YUdRe",
        "outputId": "5cc3bd01-7435-4e26-bae7-c0f40b1c24a6"
      },
      "execution_count": 3,
      "outputs": [
        {
          "output_type": "stream",
          "name": "stdout",
          "text": [
            "[[3 4 5]\n",
            " [5 6 7]]\n"
          ]
        }
      ]
    },
    {
      "cell_type": "code",
      "source": [
        ""
      ],
      "metadata": {
        "id": "nYRtnsIlVnKI"
      },
      "execution_count": 7,
      "outputs": []
    },
    {
      "cell_type": "code",
      "source": [
        "#performing SVD operation on matrix A\n",
        "u, W, V_t = svd(A)\n",
        "print(\"U : \\n\", u)\n",
        "print(\"\\nSingular Matrix : \\n\", W)\n",
        "print(\"\\nV_t : \\n\",V_t)\n"
      ],
      "metadata": {
        "colab": {
          "base_uri": "https://localhost:8080/"
        },
        "id": "2NR8HtnLUx1p",
        "outputId": "db24efa4-1823-42f6-9609-e2862e63b1bd"
      },
      "execution_count": 14,
      "outputs": [
        {
          "output_type": "stream",
          "name": "stdout",
          "text": [
            "U : \n",
            " [[-0.55870157 -0.82936877]\n",
            " [-0.82936877  0.55870157]]\n",
            "\n",
            "Singular Matrix : \n",
            " [12.64317441  0.38748018]\n",
            "\n",
            "V_t : \n",
            " [[-0.46056064 -0.57034876 -0.68013688]\n",
            " [ 0.78817335  0.08964162 -0.6088901 ]\n",
            " [ 0.40824829 -0.81649658  0.40824829]]\n"
          ]
        }
      ]
    }
  ]
}